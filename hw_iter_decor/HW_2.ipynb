{
  "cells": [
    {
      "cell_type": "markdown",
      "id": "72f5013c-f4b9-4a1f-aed9-7e47623e7c8a",
      "metadata": {
        "id": "72f5013c-f4b9-4a1f-aed9-7e47623e7c8a"
      },
      "source": [
        "# Задание 1 (2 балла)"
      ]
    },
    {
      "cell_type": "markdown",
      "id": "0e818fc0-4716-45c6-8942-7b60da358200",
      "metadata": {
        "id": "0e818fc0-4716-45c6-8942-7b60da358200"
      },
      "source": [
        "Напишите класс `MyDict`, который будет полностью повторять поведение обычного словаря, за исключением того, что при итерации мы должны получать и ключи, и значения.\n",
        "\n",
        "**Модули использовать нельзя**"
      ]
    },
    {
      "cell_type": "code",
      "execution_count": null,
      "id": "3dc27675-99fc-4040-a8f7-aa20be51c816",
      "metadata": {
        "id": "3dc27675-99fc-4040-a8f7-aa20be51c816"
      },
      "outputs": [],
      "source": [
        "class MyDict(dict):\n",
        "    def __iter__(self):\n",
        "        return iter(self.items())\n",
        "    "
      ]
    },
    {
      "cell_type": "code",
      "execution_count": null,
      "id": "a96e453e-2553-40b1-889f-cce04c6db771",
      "metadata": {
        "id": "a96e453e-2553-40b1-889f-cce04c6db771",
        "outputId": "14ceb2b2-f866-41f9-a7ea-33014a87c1bc"
      },
      "outputs": [
        {
          "name": "stdout",
          "output_type": "stream",
          "text": [
            "a 1\n",
            "b 2\n",
            "c 3\n",
            "d 25\n"
          ]
        }
      ],
      "source": [
        "dct = MyDict({\"a\": 1, \"b\": 2, \"c\": 3, \"d\": 25})\n",
        "for key, value in dct:\n",
        "    print(key, value)   "
      ]
    },
    {
      "cell_type": "code",
      "execution_count": null,
      "id": "d3b93507-d88a-4773-8d6f-31990e1effbc",
      "metadata": {
        "id": "d3b93507-d88a-4773-8d6f-31990e1effbc",
        "outputId": "561a9f32-9f89-49ea-f841-fa2bb2a23809"
      },
      "outputs": [
        {
          "name": "stdout",
          "output_type": "stream",
          "text": [
            "a 1\n",
            "b 2\n",
            "c 3\n",
            "d 25\n"
          ]
        }
      ],
      "source": [
        "for key, value in dct.items():\n",
        "    print(key, value)"
      ]
    },
    {
      "cell_type": "code",
      "execution_count": null,
      "id": "9be2de18-f963-4de0-afba-c183a9a56087",
      "metadata": {
        "id": "9be2de18-f963-4de0-afba-c183a9a56087",
        "outputId": "3916db92-9701-43c2-8c0d-f68c9e365a00"
      },
      "outputs": [
        {
          "name": "stdout",
          "output_type": "stream",
          "text": [
            "a\n",
            "b\n",
            "c\n",
            "d\n"
          ]
        }
      ],
      "source": [
        "for key in dct.keys():\n",
        "    print(key)"
      ]
    },
    {
      "cell_type": "code",
      "execution_count": null,
      "id": "b7bfbf08-7253-4aab-a9a0-a8e8500c5a29",
      "metadata": {
        "id": "b7bfbf08-7253-4aab-a9a0-a8e8500c5a29",
        "outputId": "be49e28b-c898-4bf6-d45c-53264868946d"
      },
      "outputs": [
        {
          "data": {
            "text/plain": [
              "28"
            ]
          },
          "execution_count": 15,
          "metadata": {},
          "output_type": "execute_result"
        }
      ],
      "source": [
        "dct[\"c\"] + dct[\"d\"]"
      ]
    },
    {
      "cell_type": "markdown",
      "id": "4bde5544-afd0-408e-a03b-dad5096ee685",
      "metadata": {
        "id": "4bde5544-afd0-408e-a03b-dad5096ee685"
      },
      "source": [
        "# Задание 2 (2 балла)"
      ]
    },
    {
      "cell_type": "markdown",
      "id": "36e85085-9990-4a2a-a005-f5ef3afd438d",
      "metadata": {
        "id": "36e85085-9990-4a2a-a005-f5ef3afd438d"
      },
      "source": [
        "Напишите функцию `iter_append`, которая \"добавляет\" новый элемент в конец итератора, возвращая итератор, который включает изначальные элементы и новый элемент. Итерироваться по итератору внутри функции нельзя, то есть вот такая штука не принимается\n",
        "```python\n",
        "def iter_append(iterator, item):\n",
        "    lst = list(iterator) + [item]\n",
        "    return iter(lst)\n",
        "```\n",
        "\n",
        "**Модули использовать нельзя**"
      ]
    },
    {
      "cell_type": "code",
      "execution_count": null,
      "id": "a78224f1",
      "metadata": {
        "id": "a78224f1"
      },
      "outputs": [],
      "source": [
        "def iter_append(iterator, item):\n",
        "    yield from iterator\n",
        "    yield item"
      ]
    },
    {
      "cell_type": "code",
      "execution_count": null,
      "id": "d70f202a-0515-4f40-a9b1-4738572a837c",
      "metadata": {
        "id": "d70f202a-0515-4f40-a9b1-4738572a837c",
        "outputId": "feb4fb45-1d3d-4481-8834-25c7a2ec8022"
      },
      "outputs": [
        {
          "name": "stdout",
          "output_type": "stream",
          "text": [
            "1\n",
            "2\n",
            "3\n",
            "4\n"
          ]
        }
      ],
      "source": [
        "my_iterator = iter([1, 2, 3])\n",
        "new_iterator = iter_append(my_iterator, 4)\n",
        "\n",
        "for element in new_iterator:\n",
        "    print(element)"
      ]
    },
    {
      "cell_type": "markdown",
      "id": "72c35894-0caf-41ac-a584-56058b243f29",
      "metadata": {
        "id": "72c35894-0caf-41ac-a584-56058b243f29"
      },
      "source": [
        "# Задание 3 (5 баллов)"
      ]
    },
    {
      "cell_type": "markdown",
      "id": "884be4ed-b388-4b36-ad7d-d6835a87425e",
      "metadata": {
        "id": "884be4ed-b388-4b36-ad7d-d6835a87425e"
      },
      "source": [
        "Представим, что мы установили себе некотурую библиотеку, которая содержит в себе два класса `MyString` и `MySet`, которые являются наследниками `str` и `set`, но также несут и дополнительные методы.\n",
        "\n",
        "Проблема заключается в том, что библиотеку писали не очень аккуратные люди, поэтому получилось так, что некоторые методы возвращают не тот тип данных, который мы ожидаем. Например, `MyString().reverse()` возвращает объект класса `str`, хотя логичнее было бы ожидать объект класса `MyString`.\n",
        "\n",
        "Найдите и реализуйте удобный способ сделать так, чтобы подобные методы возвращали экземпляр текущего класса, а не родительского. При этом **код методов изменять нельзя**\n",
        "\n",
        "**+3 дополнительных балла** за реализацию того, чтобы **унаследованные от `str` и `set` методы** также возвращали объект интересующего нас класса (то есть `MyString.replace(..., ...)` должен возвращать `MyString`). **Переопределять методы нельзя**\n",
        "\n",
        "**Модули использовать нельзя**"
      ]
    },
    {
      "cell_type": "code",
      "execution_count": null,
      "id": "7973388e-c16f-437f-a1af-30ddd69f7671",
      "metadata": {
        "id": "7973388e-c16f-437f-a1af-30ddd69f7671"
      },
      "outputs": [],
      "source": [
        "def self_type(cls_obj):\n",
        "    # defining a changer\n",
        "    def change_type(func):\n",
        "        def inner_func(self, *args, **kwargs):\n",
        "            # result of our method\n",
        "            result = func(self, *args, **kwargs)\n",
        "            if isinstance(result, (str, set)):\n",
        "                class_obj = self.__class__\n",
        "                result = class_obj(result)\n",
        "            return result\n",
        "        return inner_func\n",
        "    \n",
        "    # applying it when we're calling any method of this class\n",
        "    for method_or_attr_name in dir(cls_obj):\n",
        "        method_or_attr = getattr(cls_obj, method_or_attr_name)\n",
        "        if callable(method_or_attr) and not method_or_attr_name.startswith('__'):\n",
        "            setattr(cls_obj, method_or_attr_name, change_type(method_or_attr))\n",
        "    \n",
        "    return cls_obj\n",
        "\n",
        "\n",
        "@self_type\n",
        "class MyString(str):\n",
        "    def reverse(self):\n",
        "        return self[::-1]\n",
        "    \n",
        "    def make_uppercase(self):\n",
        "        return \"\".join([chr(ord(char) - 32) if 97 <= ord(char) <= 122 else char for char in self])\n",
        "    \n",
        "    def make_lowercase(self):\n",
        "        return \"\".join([chr(ord(char) + 32) if 65 <= ord(char) <= 90 else char for char in self])\n",
        "    \n",
        "    def capitalize_words(self):\n",
        "        return \" \".join([word.capitalize() for word in self.split()])\n",
        "    \n",
        "@self_type \n",
        "class MySet(set):\n",
        "    def is_empty(self):\n",
        "        return len(self) == 0\n",
        "    \n",
        "    def has_duplicates(self):\n",
        "        return len(self) != len(set(self))\n",
        "    \n",
        "    def union_with(self, other):\n",
        "        return self.union(other)\n",
        "    \n",
        "    def intersection_with(self, other):\n",
        "        return self.intersection(other)\n",
        "    \n",
        "    def difference_with(self, other):\n",
        "        return self.difference(other)"
      ]
    },
    {
      "cell_type": "code",
      "execution_count": null,
      "id": "49c31d6c",
      "metadata": {
        "id": "49c31d6c"
      },
      "outputs": [],
      "source": [
        "string_example = MyString(\"Aa Bb Cc\")\n",
        "set_example_1 = MySet({1, 2, 3, 4})\n",
        "set_example_2 = MySet({3, 4, 5, 6, 6})"
      ]
    },
    {
      "cell_type": "code",
      "execution_count": null,
      "id": "f42eb85d",
      "metadata": {
        "id": "f42eb85d"
      },
      "outputs": [],
      "source": [
        "j = string_example.reverse()"
      ]
    },
    {
      "cell_type": "code",
      "execution_count": null,
      "id": "db0bb8e6",
      "metadata": {
        "id": "db0bb8e6",
        "outputId": "3d1bbc79-faed-4ccf-e777-aaf1ae5936bc"
      },
      "outputs": [
        {
          "data": {
            "text/plain": [
              "__main__.MyString"
            ]
          },
          "execution_count": 75,
          "metadata": {},
          "output_type": "execute_result"
        }
      ],
      "source": [
        "type(j)"
      ]
    },
    {
      "cell_type": "code",
      "execution_count": null,
      "id": "8b985a7b-ddf2-47ce-8b76-a4dd921a2e06",
      "metadata": {
        "id": "8b985a7b-ddf2-47ce-8b76-a4dd921a2e06",
        "outputId": "3b904b5a-92cf-44be-e06e-afde88239b57"
      },
      "outputs": [
        {
          "name": "stdout",
          "output_type": "stream",
          "text": [
            "<class '__main__.MyString'>\n",
            "<class '__main__.MyString'>\n",
            "<class '__main__.MyString'>\n",
            "<class '__main__.MyString'>\n",
            "\n",
            "<class 'bool'>\n",
            "<class 'bool'>\n",
            "<class '__main__.MySet'>\n",
            "<class '__main__.MySet'>\n"
          ]
        }
      ],
      "source": [
        "print(type(string_example.reverse()))\n",
        "print(type(string_example.make_uppercase()))\n",
        "print(type(string_example.make_lowercase()))\n",
        "print(type(string_example.capitalize_words()))\n",
        "print()\n",
        "print(type(set_example_1.is_empty()))\n",
        "print(type(set_example_2.has_duplicates()))\n",
        "print(type(set_example_1.union_with(set_example_2)))\n",
        "print(type(set_example_1.difference_with(set_example_2)))"
      ]
    },
    {
      "cell_type": "markdown",
      "id": "f246ecea-9aaa-45c6-98e4-996dc9cdce14",
      "metadata": {
        "id": "f246ecea-9aaa-45c6-98e4-996dc9cdce14"
      },
      "source": [
        "# Задание 4 (5 баллов)"
      ]
    },
    {
      "cell_type": "markdown",
      "id": "e66831d7-df9c-4778-9942-bbb8796fef1e",
      "metadata": {
        "id": "e66831d7-df9c-4778-9942-bbb8796fef1e"
      },
      "source": [
        "Напишите декоратор `switch_privacy`:\n",
        "1. Делает все публичные **методы** класса приватными\n",
        "2. Делает все приватные методы класса публичными\n",
        "3. Dunder методы и защищённые методы остаются без изменений\n",
        "4. Должен работать тестовый код ниже, в теле класса писать код нельзя\n",
        "\n",
        "**Модули использовать нельзя**"
      ]
    },
    {
      "cell_type": "code",
      "execution_count": null,
      "id": "733db8d6-87b8-4797-97be-d3b901422ded",
      "metadata": {
        "id": "733db8d6-87b8-4797-97be-d3b901422ded"
      },
      "outputs": [],
      "source": [
        "def switch_privacy(cls_obj):\n",
        "    for method_or_attr_name in dir(cls_obj):\n",
        "        method_or_attr = getattr(cls_obj, method_or_attr_name)\n",
        "        if callable(method_or_attr):\n",
        "            if method_or_attr_name.startswith(f'_{cls_obj.__name__}__'):  # private --> public\n",
        "                # changing for a new name\n",
        "                setattr(cls_obj, method_or_attr_name[method_or_attr_name.find('__')+2:],\n",
        "                        method_or_attr)\n",
        "                # deleting the old name\n",
        "                delattr(cls_obj, method_or_attr_name)\n",
        "            if method_or_attr_name[0] != '_':  # public --> private\n",
        "                setattr(cls_obj, f'_{cls_obj.__name__}__{method_or_attr_name}',\n",
        "                        method_or_attr)\n",
        "                delattr(cls_obj, method_or_attr_name)\n",
        "    \n",
        "    return cls_obj\n",
        "\n",
        "@switch_privacy\n",
        "class ExampleClass:\n",
        "    # Но не здесь\n",
        "    def public_method(self):\n",
        "        return 1\n",
        "    \n",
        "    def _protected_method(self):\n",
        "        return 2\n",
        "    \n",
        "    def __private_method(self):\n",
        "        return 3\n",
        "    \n",
        "    def __private_method2(self):\n",
        "        return 3\n",
        "    \n",
        "    def __dunder_method__(self):\n",
        "        pass"
      ]
    },
    {
      "cell_type": "code",
      "execution_count": null,
      "id": "c936077d-e618-459c-bbcc-6ad1b22d0975",
      "metadata": {
        "id": "c936077d-e618-459c-bbcc-6ad1b22d0975",
        "outputId": "34a3b225-8721-4cfb-86df-963bbc5c0826"
      },
      "outputs": [
        {
          "data": {
            "text/plain": [
              "1"
            ]
          },
          "execution_count": 95,
          "metadata": {},
          "output_type": "execute_result"
        }
      ],
      "source": [
        "test_object = ExampleClass()\n",
        "\n",
        "test_object._ExampleClass__public_method()   # Публичный метод стал приватным"
      ]
    },
    {
      "cell_type": "code",
      "execution_count": null,
      "id": "10603672-80cf-460c-9305-d0950094419d",
      "metadata": {
        "id": "10603672-80cf-460c-9305-d0950094419d",
        "outputId": "99afc20a-4a86-45f4-c6ec-36cca60f3deb"
      },
      "outputs": [
        {
          "data": {
            "text/plain": [
              "3"
            ]
          },
          "execution_count": 96,
          "metadata": {},
          "output_type": "execute_result"
        }
      ],
      "source": [
        "test_object.private_method()   # Приватный метод стал публичным"
      ]
    },
    {
      "cell_type": "code",
      "execution_count": null,
      "id": "f30b1ef8-0f80-482d-89f1-09caece61c88",
      "metadata": {
        "id": "f30b1ef8-0f80-482d-89f1-09caece61c88",
        "outputId": "bf522431-b37f-47a3-8dee-d55652ac5c4f"
      },
      "outputs": [
        {
          "data": {
            "text/plain": [
              "2"
            ]
          },
          "execution_count": 97,
          "metadata": {},
          "output_type": "execute_result"
        }
      ],
      "source": [
        "test_object._protected_method()   # Защищённый метод остался защищённым"
      ]
    },
    {
      "cell_type": "code",
      "execution_count": null,
      "id": "71d51e6e-62b5-4440-af3e-75088761b1bf",
      "metadata": {
        "id": "71d51e6e-62b5-4440-af3e-75088761b1bf"
      },
      "outputs": [],
      "source": [
        "test_object.__dunder_method__()   # Дандер метод не изменился"
      ]
    },
    {
      "cell_type": "code",
      "execution_count": null,
      "id": "a97cf0c4-4881-441c-83b6-ef8955377585",
      "metadata": {
        "id": "a97cf0c4-4881-441c-83b6-ef8955377585",
        "outputId": "e7712691-65b4-4e94-d4d5-1621300ce429"
      },
      "outputs": [
        {
          "data": {
            "text/plain": [
              "(False, False)"
            ]
          },
          "execution_count": 99,
          "metadata": {},
          "output_type": "execute_result"
        }
      ],
      "source": [
        "hasattr(test_object, \"public_method\"), hasattr(test_object, \"private\")   # Изначальные варианты изменённых методов не сохраняются"
      ]
    },
    {
      "cell_type": "markdown",
      "id": "31ad0bdd-9a24-4d6c-a499-e975b4b6acdd",
      "metadata": {
        "id": "31ad0bdd-9a24-4d6c-a499-e975b4b6acdd"
      },
      "source": [
        "# Задание 5 (7 баллов)"
      ]
    },
    {
      "cell_type": "markdown",
      "id": "68c75d25-37f7-491d-bcc0-ba74e8bdb364",
      "metadata": {
        "id": "68c75d25-37f7-491d-bcc0-ba74e8bdb364"
      },
      "source": [
        "Напишите [контекстный менеджер](https://docs.python.org/3/library/stdtypes.html#context-manager-types) `OpenFasta`\n",
        "\n",
        "Контекстные менеджеры это специальные объекты, которые могут работать с конструкцией `with ... as ...:`. В них нет ничего сложного, для их реализации как обычно нужно только определить только пару dunder методов. Изучите этот вопрос самостоятельно\n",
        "\n",
        "1. Объект должен работать как обычные файлы в питоне (наследоваться не надо, здесь лучше будет использовать **композицию**), но:\n",
        "    + При итерации по объекту мы должны будем получать не строку из файла, а специальный объект `FastaRecord`. Он будет хранить в себе информацию о последовательности. Важно, **не строки, а именно последовательности**, в fasta файлах последовательность часто разбивают на много строк\n",
        "    + Нужно написать методы `read_record` и `read_records`, которые по смыслу соответствуют `readline()` и `readlines()` в обычных файлах, но они должны выдавать не строки, а объект(ы) `FastaRecord`\n",
        "2. Конструктор должен принимать один аргумент - **путь к файлу**\n",
        "3. Класс должен эффективно распоряжаться памятью, с расчётом на работу с очень большими файлами\n",
        "    \n",
        "Объект `FastaRecord`. Это должен быть **датакласс** (см. про примеры декораторов в соответствующей лекции) с тремя полями:\n",
        "+ `seq` - последовательность\n",
        "+ `id_` - ID последовательности (это то, что в фаста файле в строке, которая начинается с `>` до первого пробела. Например, >**GTD326487.1** Species anonymous 24 chromosome) \n",
        "+ `description` - то, что осталось после ID (Например, >GTD326487.1 **Species anonymous 24 chromosome**)\n",
        "\n",
        "\n",
        "Напишите демонстрацию работы кода с использованием всех написанных методов, обязательно добавьте файл с тестовыми данными в репозиторий (не обязательно большой)\n",
        "\n",
        "**Можно использовать модули из стандартной библиотеки**"
      ]
    },
    {
      "cell_type": "code",
      "execution_count": null,
      "id": "5188b5d5-1e6e-4b11-9b54-9ba809210dfc",
      "metadata": {
        "id": "5188b5d5-1e6e-4b11-9b54-9ba809210dfc"
      },
      "outputs": [],
      "source": [
        "import os\n",
        "from dataclasses import dataclass\n",
        "\n",
        "\n",
        "@dataclass\n",
        "class FastaRecord:\n",
        "    seq: str\n",
        "    id_: str\n",
        "    description: str\n",
        "\n",
        "    def __repr__(self):\n",
        "        return f'>{self.id_} {self.description} \\n{self.seq} \\n'\n",
        "\n",
        "\n",
        "class OpenFasta:\n",
        "    def __init__(self, file_path, mode):\n",
        "        self.file_path = file_path\n",
        "        self.mode = mode\n",
        "        self.file = None\n",
        "        self.next_header = None\n",
        "\n",
        "    def __enter__(self):\n",
        "        self.file = open(self.file_path, self.mode)\n",
        "        return self\n",
        "\n",
        "    def __exit__(self, exc_type, exc_value, exc_traceback):\n",
        "        return self.file.close()\n",
        "\n",
        "    def read_record(self):\n",
        "        '''\n",
        "        Since on each iteration we will 'cut out' the description of the next entry, we will store it in\n",
        "        self.next_header - if we are not in the first entry, we'll infer description from this parameter.\n",
        "        '''\n",
        "        if self.next_header:\n",
        "            first_seq = False\n",
        "            id_name = self.next_header[1:self.next_header.find(' ')]\n",
        "            descr = self.next_header[self.next_header.find(' ') + 1:]\n",
        "        else:\n",
        "            first_seq = True\n",
        "        \n",
        "        '''\n",
        "        Main loop: abrupt iteration if we face >, else adding lines to seq attribute. If the seq remains empty, \n",
        "        we reached the end of the file.\n",
        "        '''\n",
        "        seq = ''\n",
        "        for line in self.file:\n",
        "            line = line.strip()\n",
        "            # if there is a new entry\n",
        "            if line.startswith('>'):\n",
        "                if first_seq:\n",
        "                    id_name = line[1:line.find(' ')]\n",
        "                    descr = line[line.find(' ')+1:]\n",
        "                    first_seq = False\n",
        "                else:\n",
        "                    self.next_header = line\n",
        "                    break\n",
        "            # if we have't reached the id line yet --> first_seq = True\n",
        "            # or if we have --> first_seq = False\n",
        "            else:\n",
        "                if not first_seq:\n",
        "                    # if line is not empty - adding it\n",
        "                    if line:\n",
        "                        seq = seq + line\n",
        "                else:\n",
        "                    continue\n",
        "\n",
        "        if not seq:\n",
        "            raise AttributeError('Empty sequence!')\n",
        "\n",
        "        return FastaRecord(seq, id_name, descr)\n",
        "\n",
        "    \n",
        "    def read_records(self):\n",
        "        try:\n",
        "            while True:\n",
        "                record = self.read_record()\n",
        "                yield record\n",
        "        except AttributeError as ar:\n",
        "            pass"
      ]
    },
    {
      "cell_type": "code",
      "execution_count": null,
      "id": "b962ec33",
      "metadata": {
        "id": "b962ec33",
        "outputId": "1cb73818-cf4b-488d-fef8-e316f5f43475"
      },
      "outputs": [
        {
          "name": "stdout",
          "output_type": "stream",
          "text": [
            ">KF848938.1 Influenza A virus (A/USA/RVD1_H3/2011(H3N2)) segment 4 hemagglutinin (HA) gene, part 1 \n",
            "CAAAAACTTCCTGGAAATGACAACAGCACGGCAACGCTGTGCCTTGGGCACCATGCAGTGCCAAACGGAACAATAGTGAAAACAATCACGAATGACCAAATTGAAGTTACTAATGCCACTGAGCTGGTTCAGAGTTCCTCAACAGGTGAAATATGCAACAGTCCTCATCAGATCCTTGATGGAGAAAACTGCACACTAATAGATGCTCTATTGGGAGACCCTCAGTGTGATGGCTTCCAAAACAAGAAATGGGACCTTTTTGTTGAACGAAGCAAAGCCC \n",
            "\n",
            ">KF848938.1 Influenza A virus (A/USA/RVD1_H3/2011(H3N2)) segment 4 hemagglutinin (HA) gene, part 2 \n",
            "ACAGCAACTGTTACCCTTATGATGTGCCGGATTATGCCTCCCTTAGGTCACTAGTTGCCTCATCCGGCACACTGGAGTTTAACAATGAAAGCTTCAATTGGACTGGAGTCACTCAAAACGGAACAAGCTCTGCTTGCATAAGGAGATCTAATAATAGTTTCTTTAGTAGATTGAATTGGTTGACCCACTTAAACTTCAAATACCCAGCATTGAACGTGACTATGCCAAACAATGAACAATTTGACAAATTGTACATTTGGGGGGTTCACCACCCGGGTACGGACAAGGACCAAATCTTCCTGTATGCTCAAGCAGCAGGAAGAATCACAGTATCTACCAAAAGAAGCCAA \n",
            "\n",
            ">KF848938.1 Influenza A virus (A/USA/RVD1_H3/2011(H3N2)) segment 4 hemagglutinin (HA) gene, part 3 \n",
            "CAAGCTGTAATTCCGAATATCGGATCTAGACCCAGAGTAAGGAATATCCCTAGCAGAGTAAGCATCTATTGGACAATAGTAAAACCGGGAGACATACTTTTGATTAACAGCACAGGGAATCTAATTGCTCCTAGGGGTTACTTTAAAATACGAAGTGGGAAAAGCTCAATAATGAGATCAGATGCACCCATTGGCAAATGCAATTCTGCATGCATCACTCCAAATGGAAGCATTCCCAATGACAAACCATTCCAAAATGTAAACAGGATCACATACGGGG \n",
            "\n",
            ">KF848938.1 Influenza A virus (A/USA/RVD1_H3/2011(H3N2)) segment 4 hemagglutinin (HA) gene, part 4 \n",
            "CCTGTCCCAGATATGTTAAGCAAAACACTCTGAAATTGGCAACAGGAATGAGAAATGTACCAGAGAAACAAACTAGAGGCATATTTGGCGCAATAGCTGGTTTCATAGAAAATGGTTGGGAGGGAATGGTGGATGGTTGGTACGGTTTCAGGCATCAAAATTCTGAGGGAAGGGGACAAGCAGCAGATCTCAAAAGCACTCAAGCAGCAATCGATCAAATCAATGGGAAGCTGAATAGATTGATCGGGAAAACCAACGAGAAATTCCATCAGATTGAAAA \n",
            "\n"
          ]
        }
      ],
      "source": [
        "with OpenFasta(os.path.join(\"data\", \"example.fasta\"),'r') as fasta:\n",
        "    # we're reading line by line and closing a file after usage -- space eficient performance\n",
        "    for record in fasta.read_records():\n",
        "        print(record)"
      ]
    },
    {
      "cell_type": "code",
      "execution_count": null,
      "id": "eaa75cf1",
      "metadata": {
        "id": "eaa75cf1",
        "outputId": "1a8417c8-20d8-4770-da7b-be6837d3f5dd"
      },
      "outputs": [
        {
          "name": "stdout",
          "output_type": "stream",
          "text": [
            "The first record:\n",
            ">KF848938.1 Influenza A virus (A/USA/RVD1_H3/2011(H3N2)) segment 4 hemagglutinin (HA) gene, part 1 \n",
            "CAAAAACTTCCTGGAAATGACAACAGCACGGCAACGCTGTGCCTTGGGCACCATGCAGTGCCAAACGGAACAATAGTGAAAACAATCACGAATGACCAAATTGAAGTTACTAATGCCACTGAGCTGGTTCAGAGTTCCTCAACAGGTGAAATATGCAACAGTCCTCATCAGATCCTTGATGGAGAAAACTGCACACTAATAGATGCTCTATTGGGAGACCCTCAGTGTGATGGCTTCCAAAACAAGAAATGGGACCTTTTTGTTGAACGAAGCAAAGCCC \n",
            "\n"
          ]
        }
      ],
      "source": [
        "with OpenFasta(os.path.join(\"data\", \"example.fasta\"), 'r') as fasta:\n",
        "    print('The first record:')\n",
        "    print(fasta.read_record())"
      ]
    },
    {
      "cell_type": "markdown",
      "id": "4db652e9-7697-4dd7-bcc3-649bdc18c1c4",
      "metadata": {
        "id": "4db652e9-7697-4dd7-bcc3-649bdc18c1c4"
      },
      "source": [
        "# Задание 6 (7 баллов)"
      ]
    },
    {
      "cell_type": "markdown",
      "id": "a8ba05f3-29f0-48be-a477-c1f61a9e0537",
      "metadata": {
        "id": "a8ba05f3-29f0-48be-a477-c1f61a9e0537"
      },
      "source": [
        "1. Напишите код, который позволит получать все возможные (неуникальные) генотипы при скрещивании двух организмов. Это может быть функция или класс, что вам кажется более удобным.\n",
        "\n",
        "Например, все возможные исходы скрещивания \"Aabb\" и \"Aabb\" (неуникальные) это\n",
        "\n",
        "```\n",
        "AAbb\n",
        "AAbb\n",
        "AAbb\n",
        "AAbb\n",
        "Aabb\n",
        "Aabb\n",
        "Aabb\n",
        "Aabb\n",
        "Aabb\n",
        "Aabb\n",
        "Aabb\n",
        "Aabb\n",
        "aabb\n",
        "aabb\n",
        "aabb\n",
        "aabb\n",
        "```\n",
        "\n",
        "2. Напишите функцию, которая вычисляет вероятность появления определённого генотипа (его ожидаемую долю в потомстве).\n",
        "Например,\n",
        "\n",
        "```python\n",
        "get_offspting_genotype_probability(parent1=\"Aabb\", parent2=\"Aabb\", target_genotype=\"Аabb\")   # 0.5\n",
        "\n",
        "```\n",
        "\n",
        "3. Напишите код, который выводит все уникальные генотипы при скрещивании `'АаБбввГгДдЕеЖжЗзИиЙйккЛлМмНн'` и `'АаббВвГгДДЕеЖжЗзИиЙйКкЛлМмНН'`, которые содержат в себе следующую комбинацию аллелей `'АаБбВвГгДдЕеЖжЗзИиЙйКкЛл'`\n",
        "4. Напишите код, который расчитывает вероятность появления генотипа `'АаБбввГгДдЕеЖжЗзИиЙйккЛлМмНн'` при скрещивании `АаБбВвГгДдЕеЖжЗзИиЙйКкЛлМмНн` и `АаБбВвГгДдЕеЖжЗзИиЙйКкЛлМмНн`\n",
        "\n",
        "Важные замечания:\n",
        "1. Порядок следования аллелей в случае гетерозигот всегда должен быть следующим: сначала большая буква, затем маленькая (вариант `AaBb` допустим, но `aAbB` быть не должно)\n",
        "2. Подзадачи 3 и 4 могут потребовать много вычислительного времени (до 15+ минут в зависимости от железа), поэтому убедитесь, что вы хорошо протестировали написанный вами код на малых данных перед выполнением этих задач. Если ваш код работает **дольше 20 мин**, то скорее всего ваше решение не оптимально, попытайтесь что-нибудь оптимизировать. Если оптимальное решение совсем не получается, то попробуйте из входных данных во всех заданиях убрать последний ген (это должно уменьшить время выполнения примерно в 4 раза), но **за такое решение будет снято 2 балла**\n",
        "3. Несмотря на то, что подзадания 2, 3 и 4 возможно решить математически, не прибегая к непосредственному получению всех возможных генотипов, от вас требуется именно brute-force вариант алгоритма\n",
        "\n",
        "**Можно использовать модули из стандартной библиотеки питона**, но **за выполнение задания без использования модулей придусмотрено +3 дополнительных балла**"
      ]
    },
    {
      "cell_type": "code",
      "execution_count": 2,
      "id": "f1cafedf",
      "metadata": {
        "id": "f1cafedf"
      },
      "outputs": [],
      "source": [
        "          \n",
        "def check_allelic_states_number(parent, ploidy=None):\n",
        "    \"\"\"\n",
        "    Checks that all genes have the same number of allelic states (can be compared with the defined ploidy). \n",
        "    Returns ploidy and the checking result; example result: (True, 2)\n",
        "    \"\"\"\n",
        "    parent_wo_states = parent.lower()\n",
        "    allelic_states_numbers, checking_results = [], []\n",
        "    for gene in set(parent_wo_states):\n",
        "        allelic_states_numbers.append(parent_wo_states.count(gene))\n",
        "    if ploidy is None: \n",
        "        ploidy = allelic_states_numbers[0]\n",
        "    return all(some_gene_states_n == ploidy for some_gene_states_n in allelic_states_numbers), ploidy\n",
        "        \n",
        "        \n",
        "def get_offspting_genotype_probability(parent1, parent2, target_genotype):\n",
        "    '''\n",
        "    Takes two parent genotypes and target genotype, then calculates the probability\n",
        "    to get this genotype by crossing parents. \n",
        "    '''\n",
        "    all_child_genotypes = all_genotypes(parent1, parent2)\n",
        "    return all_child_genotypes.count(target_genotype)/len(all_child_genotypes)\n",
        "\n",
        "    \n",
        "def all_genotypes(parent1, parent2, containing=None):\n",
        "    '''\n",
        "    Takes genotypes of two parents and returns the list of all possible genotypes\n",
        "    of offspring resulting from the cross.\n",
        "    '''\n",
        "    \n",
        "    # checkig if the number of genes is equal for two parents\n",
        "    genes1 = set(parent1.upper())\n",
        "    genes2 = set(parent2.upper())\n",
        "    if len(genes1.intersection(genes2)) != len(genes1):\n",
        "        raise ValueError('Parents have different genes set!')\n",
        "    \n",
        "    # checking the ploidy\n",
        "    for gene in genes1:\n",
        "        if (parent1.upper().count(gene) != 2) or (parent2.upper().count(gene) != 2):\n",
        "            raise ValueError('Please, provide diploid genotypes!')\n",
        "            \n",
        "    # dicts with alleles for each parent\n",
        "    alleles_dicts = [dict(), dict()]\n",
        "    for parent_id in [0, 1]:\n",
        "        # alleles_dicts[parent_id] = dict()\n",
        "        for gene in genes1:\n",
        "            alleles_dicts[parent_id][gene] = [allele for allele in (parent1, parent2)[parent_id] if allele.upper()==gene]\n",
        "    \n",
        "    # dict with all combinations alleles for each gene \n",
        "    gene_alleles_dict = dict()\n",
        "    for gene in genes1:\n",
        "        gene_alleles_dict[gene] = []\n",
        "        for allele1 in alleles_dicts[0][gene]:\n",
        "            for allele2 in alleles_dicts[1][gene]: \n",
        "                allele_sm, allele_big = (allele1, allele2) if allele1 > allele2 else (allele2, allele1)\n",
        "                gene_alleles_dict[gene].append(allele_big+allele_sm)\n",
        "    \n",
        "    # sorting in the alphabetical order\n",
        "    gene_alleles_dict = dict(sorted(gene_alleles_dict.items(), key=lambda item: item[0]))\n",
        "\n",
        "    if containing:\n",
        "        # if some of required alleles are impossible, it's not feasible\n",
        "        alleles = [containing[i:i+2] for i in range(0, len(containing), 2)]\n",
        "        for allele in alleles:\n",
        "            if allele not in gene_alleles_dict[allele[0].upper()]:\n",
        "                print('It is impossible to get this combination from given genotypes')\n",
        "                return 0\n",
        "            \n",
        "        # combining alleles\n",
        "        offspring_genotypes = ['']\n",
        "        for gene in gene_alleles_dict.keys():\n",
        "            if gene in set(containing.upper()):\n",
        "                offspring_genotypes = [\n",
        "                    ''.join([prev, extension]) for prev in offspring_genotypes for extension in gene_alleles_dict[gene] if extension in alleles\n",
        "                ]\n",
        "            else:\n",
        "                offspring_genotypes = [\n",
        "                    ''.join([prev, extension]) for prev in offspring_genotypes for extension in gene_alleles_dict[gene]\n",
        "                ]    \n",
        "\n",
        "    else:\n",
        "        offspring_genotypes = ['']\n",
        "        for gene in gene_alleles_dict.keys():\n",
        "            offspring_genotypes = [\n",
        "                ''.join([prev, extension]) for prev in offspring_genotypes for extension in gene_alleles_dict[gene]\n",
        "            ]\n",
        "    return offspring_genotypes"
      ]
    },
    {
      "cell_type": "code",
      "execution_count": 2,
      "id": "cdfa69e0",
      "metadata": {
        "colab": {
          "base_uri": "https://localhost:8080/"
        },
        "id": "cdfa69e0",
        "outputId": "a8e0776b-e757-4dbf-8842-c29b18ef4a55"
      },
      "outputs": [
        {
          "output_type": "execute_result",
          "data": {
            "text/plain": [
              "['AABb',\n",
              " 'AAbb',\n",
              " 'AABb',\n",
              " 'AAbb',\n",
              " 'AaBb',\n",
              " 'Aabb',\n",
              " 'AaBb',\n",
              " 'Aabb',\n",
              " 'AaBb',\n",
              " 'Aabb',\n",
              " 'AaBb',\n",
              " 'Aabb',\n",
              " 'aaBb',\n",
              " 'aabb',\n",
              " 'aaBb',\n",
              " 'aabb']"
            ]
          },
          "metadata": {},
          "execution_count": 2
        }
      ],
      "source": [
        "# task 1\n",
        "all_genotypes('Aabb', 'AaBb')"
      ]
    },
    {
      "cell_type": "code",
      "execution_count": 3,
      "id": "b07e589b",
      "metadata": {
        "colab": {
          "base_uri": "https://localhost:8080/"
        },
        "id": "b07e589b",
        "outputId": "08edf981-2628-45cd-bc09-8f68e07da8ec"
      },
      "outputs": [
        {
          "output_type": "execute_result",
          "data": {
            "text/plain": [
              "['AABb', 'AAbb', 'AABb', 'AAbb']"
            ]
          },
          "metadata": {},
          "execution_count": 3
        }
      ],
      "source": [
        "# task 3\n",
        "all_genotypes('Aabb', 'AaBb', containing='AA')"
      ]
    },
    {
      "cell_type": "code",
      "execution_count": 4,
      "id": "fdfb6d8c-0da7-4857-9579-6921dc409eb3",
      "metadata": {
        "tags": [],
        "colab": {
          "base_uri": "https://localhost:8080/"
        },
        "id": "fdfb6d8c-0da7-4857-9579-6921dc409eb3",
        "outputId": "942f15bf-0066-4d66-bda7-d687655cd955"
      },
      "outputs": [
        {
          "output_type": "execute_result",
          "data": {
            "text/plain": [
              "0.5"
            ]
          },
          "metadata": {},
          "execution_count": 4
        }
      ],
      "source": [
        "# task 2\n",
        "get_offspting_genotype_probability(\"Aabb\", \"Aabb\", target_genotype=\"Aabb\") "
      ]
    },
    {
      "cell_type": "code",
      "execution_count": 5,
      "id": "3e8a17cc-0642-49ae-ba6b-51ab5499660e",
      "metadata": {
        "colab": {
          "base_uri": "https://localhost:8080/"
        },
        "id": "3e8a17cc-0642-49ae-ba6b-51ab5499660e",
        "outputId": "8a833062-dcb0-46c4-80bc-39c51bb61931"
      },
      "outputs": [
        {
          "output_type": "stream",
          "name": "stdout",
          "text": [
            "CPU times: user 27.1 ms, sys: 5.12 ms, total: 32.2 ms\n",
            "Wall time: 41.1 ms\n"
          ]
        },
        {
          "output_type": "execute_result",
          "data": {
            "text/plain": [
              "65536"
            ]
          },
          "metadata": {},
          "execution_count": 5
        }
      ],
      "source": [
        "%%time\n",
        "# task 3\n",
        "crosses_filtered = all_genotypes('АаБбввГгДдЕеЖжЗзИиЙйккЛлМмНн', 'АаббВвГгДДЕеЖжЗзИиЙйКкЛлМмНН', \n",
        "                               containing='АаБбВвГгДдЕеЖжЗзИиЙйКкЛл')\n",
        "len(crosses_filtered)"
      ]
    },
    {
      "cell_type": "markdown",
      "source": [
        "Работало больше 20 минут, лучше не запускать:"
      ],
      "metadata": {
        "id": "9fyOaL-MLq5O"
      },
      "id": "9fyOaL-MLq5O"
    },
    {
      "cell_type": "code",
      "execution_count": 1,
      "id": "0e7294a1",
      "metadata": {
        "colab": {
          "base_uri": "https://localhost:8080/"
        },
        "id": "0e7294a1",
        "outputId": "5c4ac391-38d0-42ec-d249-bf9808dc36fa"
      },
      "outputs": [
        {
          "output_type": "stream",
          "name": "stdout",
          "text": [
            "1.52587890625e-05\n"
          ]
        }
      ],
      "source": [
        "# task 4\n",
        "get_offspting_genotype_probability('АаБбВвГгДдЕеЖжЗзИиЙйКкЛлМмНн', 'АаБбВвГгДдЕеЖжЗзИиЙйКкЛлМмНн',\n",
        "                                   target_genotype='АаБбввГгДдЕеЖжЗзИиЙйккЛлМмНн')"
      ]
    },
    {
      "cell_type": "code",
      "execution_count": null,
      "id": "3851582a",
      "metadata": {
        "id": "3851582a"
      },
      "outputs": [],
      "source": []
    }
  ],
  "metadata": {
    "kernelspec": {
      "display_name": "Python 3 (ipykernel)",
      "language": "python",
      "name": "python3"
    },
    "language_info": {
      "codemirror_mode": {
        "name": "ipython",
        "version": 3
      },
      "file_extension": ".py",
      "mimetype": "text/x-python",
      "name": "python",
      "nbconvert_exporter": "python",
      "pygments_lexer": "ipython3",
      "version": "3.9.0"
    },
    "colab": {
      "provenance": []
    }
  },
  "nbformat": 4,
  "nbformat_minor": 5
}