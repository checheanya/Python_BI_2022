{
 "cells": [
  {
   "cell_type": "markdown",
   "id": "7c5a538f-2dbe-445c-9f46-cf0dc18867e4",
   "metadata": {},
   "source": [
    "# Задание 1 (5 баллов)"
   ]
  },
  {
   "cell_type": "markdown",
   "id": "1e8cc3b0-6f60-40da-8058-30d9eb434daf",
   "metadata": {},
   "source": [
    "Напишите классы **Chat**, **Message** и **User**. Они должны соответствовать следующим требованиям:\n",
    "\n",
    "**Chat**:\n",
    "+ Должен иметь атрибут `chat_history`, где будут храниться все сообщения (`Message`) в обратном хронологическом порядке (сначала новые, затем старые)\n",
    "+ Должен иметь метод `show_last_message`, выводящий на экран информацию о последнем сообщении\n",
    "+ Должен иметь метод `get_history_from_time_period`, который принимает два опциональных аргумента (даты с которой и по какую мы ищем сообщения и выдаём их). Метод также должен возвращать объект типа `Chat`\n",
    "+ Должен иметь метод `show_chat`, выводящий на экран все сообщения (каждое сообщение в таком же виде как и `show_last_message`, но с разделителем между ними)\n",
    "+ Должен иметь метод `recieve`, который будет принимать сообщение и добавлять его в чат\n",
    "\n",
    "**Message**:\n",
    "+ Должен иметь три обязательных атрибута\n",
    "    + `text` - текст сообщения\n",
    "    + `datetime` - дата и время сообщения (встроенный модуль datetime вам в помощь). Важно! Это должна быть не дата создания сообщения, а дата его попадания в чат! \n",
    "    + `user` - информация о пользователе, который оставил сообщение (какой тип данных использовать здесь, разберётесь сами)\n",
    "+ Должен иметь метод `show`, который печатает или возвращает информацию о сообщении с необходимой информацией (дата, время, юзер, текст)\n",
    "+ Должен иметь метод `send`, который будет отправлять сообщение в чат\n",
    "\n",
    "**User**:\n",
    "+ Класс с информацией о юзере, наполнение для этого класса придумайте сами\n",
    "\n",
    "Напишите несколько примеров использования кода, которое показывает взаимодействие между объектами.\n",
    "\n",
    "В тексте задания намерено не указано, какие аргументы должны принимать методы, пускай вам в этом поможет здравый смысл)\n",
    "\n",
    "В этом задании не стоит флексить всякими продвинутыми штуками, для этого есть последующие\n",
    "\n",
    "В этом задании можно использовать только модуль `datetime`"
   ]
  },
  {
   "cell_type": "code",
   "execution_count": 9,
   "id": "f2dd45b4",
   "metadata": {},
   "outputs": [],
   "source": [
    "from datetime import datetime"
   ]
  },
  {
   "cell_type": "code",
   "execution_count": 114,
   "id": "d14ce6ca-7294-492c-8a01-3f7547680474",
   "metadata": {},
   "outputs": [],
   "source": [
    "class Chat(object):\n",
    "    '''\n",
    "    Class for the chat object.\n",
    "    '''\n",
    "    def __init__(self, name, messages):\n",
    "        # stores messages from new to old (inverted order) \n",
    "        self.chat_name = name\n",
    "        self.chat_history = messages[::-1]\n",
    "    \n",
    "    def show_last_message(self):\n",
    "        # prints the last message\n",
    "        self.chat_history[0].show()\n",
    "    \n",
    "    def get_history_from_the_timeperiod(self, start_date, end_date):\n",
    "        # returns messages from the given timeframe\n",
    "        if isinstance(start_date, datetime) and isinstance(end_date, datetime):\n",
    "            return Chat(f'{self.chat_name}_subchat', [message for message in self.chat_history if (end_date > message.datetime > start_date)])\n",
    "        else:\n",
    "            print('Dates should be in the datetime format!')\n",
    "    \n",
    "    def show_chat(self):\n",
    "        print(f'Messages in the {self.chat_name}:')\n",
    "        for message in self.chat_history[::-1]:\n",
    "            message.show()\n",
    "    \n",
    "    def recieve(self, message_new):\n",
    "        self.chat_history = [message_new] + self.chat_history\n",
    "\n",
    "class Message(object):\n",
    "    def __init__(self, text, usr):\n",
    "        self.text = text\n",
    "        self.datetime = None\n",
    "        try:\n",
    "            if usr.date_registered:\n",
    "                self.user = usr\n",
    "        except AttributeError as ae:\n",
    "            print('This user does not exist, add user first!')\n",
    "    \n",
    "    def show(self):\n",
    "        print(self.datetime)\n",
    "        print(self.user.nickname, 'wrote:')\n",
    "        print('> ', self.text)\n",
    "        \n",
    "    def send(self, chat):\n",
    "        self.datetime = datetime.now()\n",
    "        chat.recieve(self)\n",
    "\n",
    "\n",
    "class User(object):\n",
    "    def __init__(self, nickname, status, phone, share_phone=True):\n",
    "        self.nickname = nickname\n",
    "        self.status = status\n",
    "        self.date_registered = datetime.now()\n",
    "        if share_phone:\n",
    "            self.phone = phone\n",
    "        else:\n",
    "            self.phone = 'hidden'\n",
    "    \n",
    "    def get_info(self):\n",
    "        print('Name: ', self.nickname, '| Status: ', self.status)\n",
    "        print('Registered: ', self.date_registered)\n",
    "        print('Phone number: ', self.phone)"
   ]
  },
  {
   "cell_type": "code",
   "execution_count": 115,
   "id": "9a9c827c",
   "metadata": {},
   "outputs": [],
   "source": [
    "chat = Chat('doggs', [])"
   ]
  },
  {
   "cell_type": "code",
   "execution_count": 116,
   "id": "8a4448ed",
   "metadata": {},
   "outputs": [],
   "source": [
    "alex_doglover = User('Alex', 'busy', '+12345678', True)\n",
    "mateo_catlover = User('Mateo', 'chillin~', '+99999', False)"
   ]
  },
  {
   "cell_type": "code",
   "execution_count": 117,
   "id": "bb3a58f4",
   "metadata": {},
   "outputs": [
    {
     "name": "stdout",
     "output_type": "stream",
     "text": [
      "Name:  Alex | Status:  busy\n",
      "Registered:  2023-03-01 19:20:41.050941\n",
      "Phone number:  +12345678\n"
     ]
    }
   ],
   "source": [
    "alex_doglover.get_info()"
   ]
  },
  {
   "cell_type": "code",
   "execution_count": 118,
   "id": "b729ff4f",
   "metadata": {},
   "outputs": [
    {
     "name": "stdout",
     "output_type": "stream",
     "text": [
      "Name:  Mateo | Status:  chillin~\n",
      "Registered:  2023-03-01 19:20:41.050941\n",
      "Phone number:  hidden\n"
     ]
    }
   ],
   "source": [
    "mateo_catlover.get_info()"
   ]
  },
  {
   "cell_type": "code",
   "execution_count": 119,
   "id": "7e0e7868",
   "metadata": {},
   "outputs": [],
   "source": [
    "m1 = Message('yo bro how r u doing', alex_doglover)\n",
    "m2 = Message('awesome, just picked up a new adorable kitten on the street', mateo_catlover)\n",
    "m3 = Message('+1 in ma fam', mateo_catlover)\n",
    "m1.send(chat)\n",
    "m2.send(chat)\n",
    "m3.send(chat)"
   ]
  },
  {
   "cell_type": "code",
   "execution_count": 120,
   "id": "fb260e99",
   "metadata": {},
   "outputs": [
    {
     "name": "stdout",
     "output_type": "stream",
     "text": [
      "2023-03-01 19:20:41.511447\n",
      "Mateo wrote:\n",
      ">  +1 in ma fam\n"
     ]
    }
   ],
   "source": [
    "chat.show_last_message()"
   ]
  },
  {
   "cell_type": "code",
   "execution_count": 121,
   "id": "8a15d72a",
   "metadata": {},
   "outputs": [
    {
     "name": "stdout",
     "output_type": "stream",
     "text": [
      "Messages in the doggs:\n",
      "2023-03-01 19:20:41.511447\n",
      "Alex wrote:\n",
      ">  yo bro how r u doing\n",
      "2023-03-01 19:20:41.511447\n",
      "Mateo wrote:\n",
      ">  awesome, just picked up a new adorable kitten on the street\n",
      "2023-03-01 19:20:41.511447\n",
      "Mateo wrote:\n",
      ">  +1 in ma fam\n"
     ]
    }
   ],
   "source": [
    "chat.show_chat()"
   ]
  },
  {
   "cell_type": "code",
   "execution_count": 122,
   "id": "dd7e77c2",
   "metadata": {},
   "outputs": [],
   "source": [
    "m4 = Message('woow u r getting closer to an old cat-lady lifestyle', alex_doglover)\n",
    "m4.send(chat)"
   ]
  },
  {
   "cell_type": "code",
   "execution_count": 123,
   "id": "0841e413",
   "metadata": {},
   "outputs": [],
   "source": [
    "m5 = Message('my doggie got crazy chasing a cat on the walk today lol', alex_doglover)\n",
    "m5.send(chat)"
   ]
  },
  {
   "cell_type": "code",
   "execution_count": 124,
   "id": "e98614af",
   "metadata": {},
   "outputs": [],
   "source": [
    "m6 = Message('hoo should be careful when you come around next time haha', mateo_catlover)\n",
    "m6.send(chat)"
   ]
  },
  {
   "cell_type": "code",
   "execution_count": 125,
   "id": "c1de3206",
   "metadata": {},
   "outputs": [
    {
     "name": "stdout",
     "output_type": "stream",
     "text": [
      "Messages in the doggs:\n",
      "2023-03-01 19:20:41.511447\n",
      "Alex wrote:\n",
      ">  yo bro how r u doing\n",
      "2023-03-01 19:20:41.511447\n",
      "Mateo wrote:\n",
      ">  awesome, just picked up a new adorable kitten on the street\n",
      "2023-03-01 19:20:41.511447\n",
      "Mateo wrote:\n",
      ">  +1 in ma fam\n",
      "2023-03-01 19:20:41.976802\n",
      "Alex wrote:\n",
      ">  woow u r getting closer to an old cat-lady lifestyle\n",
      "2023-03-01 19:20:42.143192\n",
      "Alex wrote:\n",
      ">  my doggie got crazy chasing a cat on the walk today lol\n",
      "2023-03-01 19:20:42.332740\n",
      "Mateo wrote:\n",
      ">  hoo should be careful when you come around next time haha\n"
     ]
    }
   ],
   "source": [
    "chat.show_chat()"
   ]
  },
  {
   "cell_type": "code",
   "execution_count": 126,
   "id": "a95c0640",
   "metadata": {},
   "outputs": [
    {
     "data": {
      "text/plain": [
       "datetime.datetime(2023, 3, 1, 19, 20, 42, 863785)"
      ]
     },
     "execution_count": 126,
     "metadata": {},
     "output_type": "execute_result"
    }
   ],
   "source": [
    "a = datetime.now()\n",
    "#datetime(2023, 3, 1, 14, 55)\n",
    "a"
   ]
  },
  {
   "cell_type": "code",
   "execution_count": 130,
   "id": "cab9eb1b",
   "metadata": {},
   "outputs": [
    {
     "name": "stdout",
     "output_type": "stream",
     "text": [
      "Messages in the doggs_subchat:\n",
      "2023-03-01 19:20:42.332740\n",
      "Mateo wrote:\n",
      ">  hoo should be careful when you come around next time haha\n",
      "2023-03-01 19:20:42.143192\n",
      "Alex wrote:\n",
      ">  my doggie got crazy chasing a cat on the walk today lol\n"
     ]
    }
   ],
   "source": [
    "subch = chat.get_history_from_the_timeperiod(datetime(2023, 3, 1, 19, 20, 42), datetime(2023, 3, 1, 19, 20, 43))\n",
    "subch.show_chat()"
   ]
  },
  {
   "cell_type": "markdown",
   "id": "a59aa1b3-4c93-480e-a09f-e57df34eb60a",
   "metadata": {},
   "source": [
    "# Задание 2 (3 балла)"
   ]
  },
  {
   "cell_type": "markdown",
   "id": "ab07eb69-877f-4c38-8c7d-88beae20071b",
   "metadata": {},
   "source": [
    "В питоне как-то слишком типично и неинтересно происходят вызовы функций. Напишите класс `Args`, который будет хранить в себе аргументы, а функции можно будет вызывать при помощи следующего синтаксиса.\n",
    "\n",
    "Использовать любые модули **нельзя**, да и вряд-ли это как-то поможет)"
   ]
  },
  {
   "cell_type": "code",
   "execution_count": 141,
   "id": "d73d6b31-c15a-4ae6-ad9b-b3fdab88efed",
   "metadata": {},
   "outputs": [],
   "source": [
    "class Args:\n",
    "    def __init__(self, *args, **kwargs):\n",
    "        self.args = args\n",
    "        self.kwargs = kwargs\n",
    "        \n",
    "    def __rlshift__(self, func):\n",
    "        return func(*self.args, **self.kwargs)"
   ]
  },
  {
   "cell_type": "code",
   "execution_count": 142,
   "id": "55afedbb-4725-4078-bd98-bf803be0bf93",
   "metadata": {},
   "outputs": [
    {
     "data": {
      "text/plain": [
       "3"
      ]
     },
     "execution_count": 142,
     "metadata": {},
     "output_type": "execute_result"
    }
   ],
   "source": [
    "sum << Args([1, 2])"
   ]
  },
  {
   "cell_type": "code",
   "execution_count": 143,
   "id": "c37f0728-9bdc-469e-a5b8-3ab5aa43a731",
   "metadata": {},
   "outputs": [
    {
     "data": {
      "text/plain": [
       "53"
      ]
     },
     "execution_count": 143,
     "metadata": {},
     "output_type": "execute_result"
    }
   ],
   "source": [
    "(lambda a, b, c: a**2 + b + c) << Args(1, 2, c=50)"
   ]
  },
  {
   "cell_type": "markdown",
   "id": "d6915eaf-92fe-460b-bf9b-06ccf55b093f",
   "metadata": {},
   "source": [
    "# Задание 3 (5 баллов)"
   ]
  },
  {
   "cell_type": "markdown",
   "id": "5a588ef8-8af6-42b6-972b-3c716a604c34",
   "metadata": {},
   "source": [
    "Сделайте класс наследник `float`. Он должен вести себя как `float`, но также должен обладать некоторыми особенностями:\n",
    "+ При получении атрибутов формата `<действие>_<число>` мы получаем результат такого действия над нашим числом\n",
    "+ Создавать данные атрибуты в явном виде, очевидно, не стоит\n",
    "\n",
    "Подсказка: если в процессе гуглёжки, вы выйдете на такую тему как **\"Дескрипторы\", то это НЕ то, что вам сейчас нужно**\n",
    "\n",
    "Примеры использования ниже"
   ]
  },
  {
   "cell_type": "code",
   "execution_count": 6,
   "id": "9255f23f",
   "metadata": {},
   "outputs": [],
   "source": [
    "class StrangeFloat(float):\n",
    "    def __getattr__(self, name):\n",
    "        func = f'super(StrangeFloat, self).__{name[:3]}__(float({name[name.find(\"_\")+1:]}))'\n",
    "        try:\n",
    "            s = eval(func)\n",
    "            return StrangeFloat(s)\n",
    "        except AttributeError as ae:\n",
    "            for fun in dir(float)[::-1]:\n",
    "                if name[:3] in fun:\n",
    "                    f = f'super(StrangeFloat, self).{fun}(float({name[name.find(\"_\")+1:]}))'\n",
    "                    s = eval(f)\n",
    "                    return StrangeFloat(s)\n"
   ]
  },
  {
   "cell_type": "code",
   "execution_count": 7,
   "id": "f730c9c0-7d90-4037-97c6-e926dcbc1ea3",
   "metadata": {},
   "outputs": [],
   "source": [
    "number = StrangeFloat(3.5)"
   ]
  },
  {
   "cell_type": "code",
   "execution_count": 8,
   "id": "b2756368-a489-486d-a0f1-244697f8503c",
   "metadata": {},
   "outputs": [
    {
     "data": {
      "text/plain": [
       "4.5"
      ]
     },
     "execution_count": 8,
     "metadata": {},
     "output_type": "execute_result"
    }
   ],
   "source": [
    "number.add_1"
   ]
  },
  {
   "cell_type": "code",
   "execution_count": 9,
   "id": "c6799592-3cb6-4c7d-af62-9c0a48a76c1d",
   "metadata": {},
   "outputs": [
    {
     "data": {
      "text/plain": [
       "-16.5"
      ]
     },
     "execution_count": 9,
     "metadata": {},
     "output_type": "execute_result"
    }
   ],
   "source": [
    "number.subtract_20"
   ]
  },
  {
   "cell_type": "code",
   "execution_count": 10,
   "id": "130027b5-017a-4c70-b072-1fdc6acf670f",
   "metadata": {},
   "outputs": [
    {
     "data": {
      "text/plain": [
       "17.5"
      ]
     },
     "execution_count": 10,
     "metadata": {},
     "output_type": "execute_result"
    }
   ],
   "source": [
    "number.multiply_5"
   ]
  },
  {
   "cell_type": "code",
   "execution_count": 11,
   "id": "2b901e5c-5a51-4788-b15b-9b20a074e1a4",
   "metadata": {},
   "outputs": [
    {
     "data": {
      "text/plain": [
       "0.14"
      ]
     },
     "execution_count": 11,
     "metadata": {},
     "output_type": "execute_result"
    }
   ],
   "source": [
    "number.divide_25"
   ]
  },
  {
   "cell_type": "code",
   "execution_count": 12,
   "id": "ea52c492-b0ce-4d73-8aba-a0ea51ed0b60",
   "metadata": {},
   "outputs": [
    {
     "data": {
      "text/plain": [
       "-4.125"
      ]
     },
     "execution_count": 12,
     "metadata": {},
     "output_type": "execute_result"
    }
   ],
   "source": [
    "number.add_1.add_2.multiply_6.divide_8.subtract_9"
   ]
  },
  {
   "cell_type": "code",
   "execution_count": 13,
   "id": "e26ef411-a5df-46c7-bb9d-e77a1fad3cec",
   "metadata": {},
   "outputs": [
    {
     "data": {
      "text/plain": [
       "1.0"
      ]
     },
     "execution_count": 13,
     "metadata": {},
     "output_type": "execute_result"
    }
   ],
   "source": [
    "getattr(number, \"add_-2.5\")   # Используем getattr, так как не можем написать number.add_-2.5 - это SyntaxError"
   ]
  },
  {
   "cell_type": "code",
   "execution_count": 14,
   "id": "7a57bb29-1105-4df1-a4c4-5fbf62eef11d",
   "metadata": {},
   "outputs": [
    {
     "data": {
      "text/plain": [
       "11.5"
      ]
     },
     "execution_count": 14,
     "metadata": {},
     "output_type": "execute_result"
    }
   ],
   "source": [
    "number + 8   # Стандартные для float операции работают также"
   ]
  },
  {
   "cell_type": "code",
   "execution_count": 15,
   "id": "f0246b31-c55a-4bb8-ac15-46509bd8b340",
   "metadata": {},
   "outputs": [
    {
     "data": {
      "text/plain": [
       "(7, 2)"
      ]
     },
     "execution_count": 15,
     "metadata": {},
     "output_type": "execute_result"
    }
   ],
   "source": [
    "number.as_integer_ratio()   # Стандартные для float операции работают также  (это встроенный метод float, писать его НЕ НАДО)"
   ]
  },
  {
   "cell_type": "markdown",
   "id": "3635bceb-723c-4b2f-82e3-269bd914c46c",
   "metadata": {},
   "source": [
    "# Задание 4 (3 балла)"
   ]
  },
  {
   "cell_type": "markdown",
   "id": "31d35f82-1e20-4bf5-b896-7b8163f8386f",
   "metadata": {},
   "source": [
    "В данном задании мы немного отдохнём и повеселимся. От вас требуется заменить в данном коде максимально возможное количество синтаксических конструкций на вызовы dunder методов, dunder атрибутов и dunder переменных.\n",
    "\n",
    "Маленькая заметка: полностью всё заменить невозможно. Например, `function()` можно записать как `function.__call__()`, но при этом мы всё ещё не избавляемся от скобочек, так что можно делать так до бесконечности `function.__call__.__call__.__call__.__call__.....__call__()` и при всём при этом мы ещё не избавляемся от `.` для доступа к атрибутам. В общем, замените всё, что получится, не закапываясь в повторы, как в приведённом примере. Чем больше разных методов вы найдёте и используете, тем лучше и тем выше будет балл\n",
    "\n",
    "Код по итогу дожен работать и печатать число **4420.0**, как в примере. Структуру кода менять нельзя, просто изменяем конструкции на синонимичные\n",
    "\n",
    "И ещё маленькая подсказка. Заменить здесь можно всё кроме:\n",
    "+ Конструкции `for ... in ...`:\n",
    "+ Синтаксиса создания лямбда функции\n",
    "+ Оператора присваивания `=`\n",
    "+ Конструкции `if-else`"
   ]
  },
  {
   "cell_type": "code",
   "execution_count": 118,
   "id": "9e29cc00-c8db-4cc4-a93b-2908352d9344",
   "metadata": {},
   "outputs": [
    {
     "name": "stdout",
     "output_type": "stream",
     "text": [
      "4420.0\n"
     ]
    }
   ],
   "source": [
    "import numpy as np\n",
    "\n",
    "\n",
    "matrix = []\n",
    "for idx in range(0, 100, 10):\n",
    "    matrix += [list(range(idx, idx + 10))]\n",
    "    \n",
    "selected_columns_indices = list(filter(lambda x: x in range(1, 5, 2), range(len(matrix))))\n",
    "selected_columns = map(lambda x: [x[col] for col in selected_columns_indices], matrix)\n",
    "\n",
    "arr = np.array(list(selected_columns))\n",
    "\n",
    "mask = arr[:, 1] % 3 == 0\n",
    "new_arr = arr[mask]\n",
    "\n",
    "product = new_arr @ new_arr.T\n",
    "\n",
    "if (product[0] < 1000).all() and (product[2] > 1000).any():\n",
    "    print(product.mean())"
   ]
  },
  {
   "cell_type": "code",
   "execution_count": 117,
   "id": "a87cff2a-7168-470d-b38f-1cb5a60ac0c4",
   "metadata": {},
   "outputs": [
    {
     "name": "stdout",
     "output_type": "stream",
     "text": [
      "4420.0\n"
     ]
    }
   ],
   "source": [
    "np = __import__('numpy')\n",
    "\n",
    "matrix = list.__new__(list)\n",
    "idx = int.__int__(0)\n",
    "while idx.__lt__(100):\n",
    "    matrix.__iadd__([list.__call__(range(idx, idx.__add__(10)))])\n",
    "    idx = idx.__add__(10)\n",
    "    \n",
    "selected_columns_indices = list.__call__((filter(lambda x: x in range(1, 5, 2), range(matrix.__len__()))))\n",
    "selected_columns = map(lambda x: list.__call__(x.__getitem__(col) for col in selected_columns_indices), matrix)\n",
    "\n",
    "arr = np.array(list.__call__(selected_columns))\n",
    "\n",
    "mask = arr[:, 1].__mod__(3).__eq__(0)\n",
    "\n",
    "new_arr = arr.__getitem__(mask)\n",
    "\n",
    "product = new_arr.__matmul__(new_arr.T)\n",
    "\n",
    "if (product.__getitem__(0).__lt__(1000)).all().__and__((product.__getitem__(2).__gt__(1000)).any()):\n",
    "    print(product.mean().__str__())"
   ]
  },
  {
   "cell_type": "markdown",
   "id": "e90e5938-cabe-4ee1-9a88-73f25b3b67c3",
   "metadata": {},
   "source": [
    "# Задание 5 (10 баллов)"
   ]
  },
  {
   "cell_type": "markdown",
   "id": "0e58f6a8-7bb8-45f0-b14d-3bcd1f1ba5a9",
   "metadata": {},
   "source": [
    "Напишите абстрактный класс `BiologicalSequence`, который задаёт следующий интерфейс:\n",
    "+ Работа с функцией `len`\n",
    "+ Возможность получать элементы по индексу и делать срезы последовательности (аналогично строкам)\n",
    "+ Вывод на печать в удобном виде и возможность конвертации в строку\n",
    "+ Возможность проверить алфавит последовательности на корректность\n",
    "\n",
    "Напишите класс `NucleicAcidSequence`:\n",
    "+ Данный класс реализует интерфейс `BiologicalSequence`\n",
    "+ Данный класс имеет новый метод `complement`, возвращающий комплементарную последовательность\n",
    "+ Данный класс имеет новый метод `gc_content`, возвращающий GC-состав (без разницы, в процентах или в долях)\n",
    "\n",
    "Напишите классы наследники `NucleicAcidSequence`: `DNASequence` и `RNASequence`\n",
    "+ `DNASequence` должен иметь метод `transcribe`, возвращающий транскрибированную РНК-последовательность\n",
    "+ Данные классы не должны иметь <ins>публичных методов</ins> `complement` и метода для проверки алфавита, так как они уже должны быть реализованы в `NucleicAcidSequence`.\n",
    "\n",
    "Напишите класс `AminoAcidSequence`:\n",
    "+ Данный класс реализует интерфейс `BiologicalSequence`\n",
    "+ Добавьте этому классу один любой метод, подходящий по смыслу к аминокислотной последовательности. Например, метод для нахождения изоэлектрической точки, молекулярного веса и т.д.\n",
    "\n",
    "Комментарий по поводу метода `NucleicAcidSequence.complement`, так как я хочу, чтобы вы сделали его опредедённым образом:\n",
    "\n",
    "При вызове `dna.complement()` или условного `dna.check_alphabet()` должны будут вызываться соответствующие методы из `NucleicAcidSequence`. При этом, данный метод должен обладать свойством полиморфизма, иначе говоря, внутри `complement` не надо делать условия а-ля `if seuqence_type == \"DNA\": return self.complement_dna()`, это крайне не гибко. Данный метод должен опираться на какой-то общий интерфейс между ДНК и РНК. Создание экземпляров `NucleicAcidSequence` не подразумевается, поэтому код `NucleicAcidSequence(\"ATGC\").complement()` не обязан работать, а в идеале должен кидать исключение `NotImplementedError` при вызове от экземпляра `NucleicAcidSequence`\n",
    "\n",
    "Вся сложность задания в том, чтобы правильно организовать код. Если у вас есть повторяющийся код в сестринских классах или родительском и дочернем, значит вы что-то делаете не так.\n",
    "\n",
    "\n",
    "Маленькое замечание: По-хорошему, между классом `BiologicalSequence` и классами `NucleicAcidSequence` и `AminoAcidSequence`, ещё должен быть класс-прослойка, частично реализующий интерфейс `BiologicalSequence`, но его писать не обязательно, так как задание и так довольно большое (правда из-за этого у вас неминуемо возникнет повторяющийся код в классах `NucleicAcidSequence` и `AminoAcidSequence`)"
   ]
  },
  {
   "cell_type": "code",
   "execution_count": 102,
   "id": "f17d5d3f-9982-4271-a987-3af7bc071c42",
   "metadata": {},
   "outputs": [],
   "source": [
    "from abc import ABC, abstractmethod\n",
    "from Bio.SeqUtils.ProtParam import ProteinAnalysis as PA\n",
    "\n",
    "\n",
    "class BiologicalSequence(ABC):\n",
    "    def __init__(self, seq):\n",
    "        # we will store input sequence as a string\n",
    "        if isinstance(seq, list):\n",
    "            self.seq = ''.join(seq).upper()\n",
    "        else:\n",
    "            self.seq = seq.upper()\n",
    "    \n",
    "    def __len__(self):\n",
    "        # returns the length of the sequence, call: len()\n",
    "        return len(self.seq)\n",
    "        \n",
    "    def __getitem__(self, slc):\n",
    "        # returns i-th element of the sequence, call: obj[i] OR\n",
    "        # slice from start to stop with step=step\n",
    "        if isinstance(slc, int):\n",
    "            return self.seq[slc]  \n",
    "        elif isinstance(slc, slice):\n",
    "            new_slice = slice(slc.start, slc.stop, slc.step) # can delete this line actually...\n",
    "            return self.seq[new_slice]\n",
    "    \n",
    "    def __str__(self):\n",
    "        # returns sequence as a string, call: str()\n",
    "        # since we're storing seq as a string - just printing it out\n",
    "        return self.seq\n",
    "    \n",
    "    def __repr__(self):\n",
    "        # prints out info about the sequence\n",
    "        print('Sequence: ')\n",
    "        return self.seq\n",
    "    \n",
    "    def check_alphabet(self):\n",
    "        # checking the sequence for the presence of inappropriate letters\n",
    "        if set(self.seq).issubset(self.letters_set):\n",
    "            print('Everything is fine!')\n",
    "        else:\n",
    "            raise TypeError(\"Sequence contains invalid letter\")\n",
    "\n",
    "            \n",
    "    \n",
    "class NucleotideSequence(BiologicalSequence):\n",
    "    def __init__(self, seq):\n",
    "        super().__init__(seq)\n",
    "        # dict of all allowed letters - DNA by default\n",
    "        self.letters_set = {'A', 'T', 'G', 'C'}\n",
    "        # dict of the complementary letters - DNA by default\n",
    "        self.comp_dict = {'A': 'T', 'G': 'C', 'C': 'G', 'T': 'A'}\n",
    "    \n",
    "    def complement(self):\n",
    "        # returns a complementary sequence\n",
    "        return ''.join([self.comp_dict[i] for i in self.seq])\n",
    "    \n",
    "    def gc_content(self):\n",
    "        # returns a GC-content of the sequence\n",
    "        return sum([self.seq.count('C'), self.seq.count('G')])/len(self)\n",
    "\n",
    "class DNASequence(NucleotideSequence):    \n",
    "    def transcribe(self):\n",
    "        # returns transcribed sequence of RNA class\n",
    "        return RNASequence(self.seq.replace('T', 'U'))\n",
    "\n",
    "\n",
    "class RNASequence(NucleotideSequence):\n",
    "    def __init__(self, seq):\n",
    "        super().__init__(seq)\n",
    "        # dict of all allowed letters - updating\n",
    "        self.letters_set = {'A', 'T', 'G', 'C'}\n",
    "        self.letters_set = {'A', 'U', 'G', 'C'}\n",
    "        self.comp_dict = {'A': 'U', 'G': 'C', 'C': 'G', 'U': 'A'}\n",
    "        self.translation_dict = {'AAA': 'K', 'AAC': 'N', 'AAG': 'K', 'AAU': 'N',\n",
    "                                 'ACA': 'T', 'ACC': 'T', 'ACG': 'T', 'AGA': 'R',\n",
    "                                 'AGC': 'S', 'AGG': 'R', 'AGU': 'S', 'AUA': 'I',\n",
    "                                 'AUC': 'I', 'AUG': 'M', 'CAA': 'Q', 'CAC': 'H',\n",
    "                                 'CAG': 'Q', 'CAU': 'H', 'CCA': 'P', 'CCC': 'P',\n",
    "                                 'CCG': 'P', 'CGA': 'R', 'CGC': 'R', 'CGG': 'R',\n",
    "                                 'CGU': 'R', 'CUA': 'L', 'CUC': 'L', 'CUG': 'L',\n",
    "                                 'GAA': 'E', 'GAC': 'D', 'GAG': 'E', 'GAU': 'D',\n",
    "                                 'GCA': 'A', 'GCC': 'A', 'GCG': 'A', 'GGA': 'G',\n",
    "                                 'GGC': 'G', 'GGG': 'G', 'GGU': 'G', 'GUA': 'V',\n",
    "                                 'GUC': 'V', 'GUG': 'V', 'UAA': '-', 'UAC': 'Y',\n",
    "                                 'UAG': '-', 'UAU': 'Y', 'UCA': 'S', 'UCC': 'S',\n",
    "                                 'UCG': 'S', 'UGA': '-', 'UGC': 'C', 'UGG': 'W',\n",
    "                                 'UGU': 'C', 'UUA': 'L', 'UUC': 'F', 'UUG': 'L'}\n",
    "    \n",
    "    def reverse_transcribe(self):\n",
    "        # returns reverse-transcribed sequence of DNA class\n",
    "        return DNASequence(self.seq.replace('U', 'T'))\n",
    "    \n",
    "    def translate(self):\n",
    "        # retuns protein sequence of the class AminoAcidSequence based on RNA\n",
    "        if self.seq.find(\"AUG\") == -1:\n",
    "            raise KeyError(\"No start codons in your sequence\")\n",
    "        else:\n",
    "            orf_start_pos = self.seq.find('AUG')\n",
    "            \n",
    "        orf_end_pos = min(self.seq.find('UAA'), self.seq.find('UAG'), self.seq.find('UGA'))\n",
    "        gene = self.seq[orf_start_pos:orf_end_pos]\n",
    "        return AminoAcidSequence(''.join([self.translation_dict[gene[i:i+3]] for i in range(0, len(gene)-3, 3)]))\n",
    "\n",
    "    \n",
    "class AminoAcidSequence(BiologicalSequence):\n",
    "    def __init__(self, seq):\n",
    "        super().__init__(seq)\n",
    "        # dict of amino acids molecular weight\n",
    "        self.aa_weight_dict = {\n",
    "            'A': 71.03711, 'G': 57.02146, 'M': 131.04049, 'S': 87.03203,\n",
    "            'C': 103.00919, 'H': 137.05891, 'N': 114.04293, 'T': 101.04768,\n",
    "            'D': 115.02694, 'I': 113.08406, 'P': 97.05276, 'V': 99.06841,\n",
    "            'E': 129.04259, 'K': 128.09496, 'Q': 128.05858, 'W': 186.07931,\n",
    "            'F': 147.06841, 'L': 113.08406, 'R': 156.10111, 'Y': 163.06333\n",
    "        }\n",
    "        # tools to work with proteins\n",
    "        self.tools = PA(self.seq)\n",
    "        # list of allowed letters\n",
    "        self.letters_set = self.aa_weight_dict.keys\n",
    "\n",
    "    def calc_mass(self):\n",
    "        # retunns a molecular weight of the protein\n",
    "        s = 0\n",
    "        for aa in self.seq:\n",
    "           s += self.aa_weight_dict[aa]\n",
    "        return s\n",
    "    \n",
    "    def calc_isoel_point(self):\n",
    "        # returns isoelectric point of the protein\n",
    "        return self.tools.isoelectric_point()\n",
    "    \n",
    "    def calc_charge_at_ph(self, ph):\n",
    "        # returns protein charge at the given ph \n",
    "        return self.tools.charge_at_pH(ph)\n",
    "    \n",
    "    def check_alphabet(self, letters_set):\n",
    "        # checking the alphabet of the sequence\n",
    "        return super().check_alphabet(self, self.letters_set)\n"
   ]
  },
  {
   "cell_type": "code",
   "execution_count": 103,
   "id": "f828060c",
   "metadata": {},
   "outputs": [],
   "source": [
    "dna1 = DNASequence('ACGGTAGACCT')\n",
    "dna2 = DNASequence('ACGGRAGACCT')"
   ]
  },
  {
   "cell_type": "code",
   "execution_count": 104,
   "id": "2e9c4b17",
   "metadata": {},
   "outputs": [
    {
     "name": "stdout",
     "output_type": "stream",
     "text": [
      "Everything is fine!\n"
     ]
    }
   ],
   "source": [
    "dna1.check_alphabet()"
   ]
  },
  {
   "cell_type": "code",
   "execution_count": 105,
   "id": "4b19d35d",
   "metadata": {},
   "outputs": [
    {
     "ename": "TypeError",
     "evalue": "Sequence contains invalid letter",
     "output_type": "error",
     "traceback": [
      "\u001b[1;31m---------------------------------------------------------------------------\u001b[0m",
      "\u001b[1;31mTypeError\u001b[0m                                 Traceback (most recent call last)",
      "\u001b[1;32m~\\AppData\\Local\\Temp/ipykernel_11432/661446353.py\u001b[0m in \u001b[0;36m<module>\u001b[1;34m\u001b[0m\n\u001b[1;32m----> 1\u001b[1;33m \u001b[0mdna2\u001b[0m\u001b[1;33m.\u001b[0m\u001b[0mcheck_alphabet\u001b[0m\u001b[1;33m(\u001b[0m\u001b[1;33m)\u001b[0m\u001b[1;33m\u001b[0m\u001b[1;33m\u001b[0m\u001b[0m\n\u001b[0m",
      "\u001b[1;32m~\\AppData\\Local\\Temp/ipykernel_11432/540492674.py\u001b[0m in \u001b[0;36mcheck_alphabet\u001b[1;34m(self)\u001b[0m\n\u001b[0;32m     39\u001b[0m             \u001b[0mprint\u001b[0m\u001b[1;33m(\u001b[0m\u001b[1;34m'Everything is fine!'\u001b[0m\u001b[1;33m)\u001b[0m\u001b[1;33m\u001b[0m\u001b[1;33m\u001b[0m\u001b[0m\n\u001b[0;32m     40\u001b[0m         \u001b[1;32melse\u001b[0m\u001b[1;33m:\u001b[0m\u001b[1;33m\u001b[0m\u001b[1;33m\u001b[0m\u001b[0m\n\u001b[1;32m---> 41\u001b[1;33m             \u001b[1;32mraise\u001b[0m \u001b[0mTypeError\u001b[0m\u001b[1;33m(\u001b[0m\u001b[1;34m\"Sequence contains invalid letter\"\u001b[0m\u001b[1;33m)\u001b[0m\u001b[1;33m\u001b[0m\u001b[1;33m\u001b[0m\u001b[0m\n\u001b[0m\u001b[0;32m     42\u001b[0m \u001b[1;33m\u001b[0m\u001b[0m\n\u001b[0;32m     43\u001b[0m \u001b[1;33m\u001b[0m\u001b[0m\n",
      "\u001b[1;31mTypeError\u001b[0m: Sequence contains invalid letter"
     ]
    }
   ],
   "source": [
    "dna2.check_alphabet()"
   ]
  },
  {
   "cell_type": "code",
   "execution_count": 106,
   "id": "e28c8c47",
   "metadata": {},
   "outputs": [
    {
     "data": {
      "text/plain": [
       "'TGCCATCTGGA'"
      ]
     },
     "execution_count": 106,
     "metadata": {},
     "output_type": "execute_result"
    }
   ],
   "source": [
    "dna1.complement()"
   ]
  },
  {
   "cell_type": "code",
   "execution_count": 107,
   "id": "75fe9876",
   "metadata": {},
   "outputs": [
    {
     "data": {
      "text/plain": [
       "0.5454545454545454"
      ]
     },
     "execution_count": 107,
     "metadata": {},
     "output_type": "execute_result"
    }
   ],
   "source": [
    "dna1.gc_content()"
   ]
  },
  {
   "cell_type": "code",
   "execution_count": 108,
   "id": "8d1d7f9a",
   "metadata": {},
   "outputs": [],
   "source": [
    "rna = dna1.transcribe()"
   ]
  },
  {
   "cell_type": "code",
   "execution_count": 109,
   "id": "b53d8900",
   "metadata": {},
   "outputs": [
    {
     "name": "stdout",
     "output_type": "stream",
     "text": [
      "Sequence: \n"
     ]
    },
    {
     "data": {
      "text/plain": [
       "ACGGUAGACCU"
      ]
     },
     "execution_count": 109,
     "metadata": {},
     "output_type": "execute_result"
    }
   ],
   "source": [
    "rna"
   ]
  },
  {
   "cell_type": "code",
   "execution_count": 110,
   "id": "1272baeb",
   "metadata": {},
   "outputs": [
    {
     "ename": "KeyError",
     "evalue": "'No start codons in your sequence'",
     "output_type": "error",
     "traceback": [
      "\u001b[1;31m---------------------------------------------------------------------------\u001b[0m",
      "\u001b[1;31mKeyError\u001b[0m                                  Traceback (most recent call last)",
      "\u001b[1;32m~\\AppData\\Local\\Temp/ipykernel_11432/586205791.py\u001b[0m in \u001b[0;36m<module>\u001b[1;34m\u001b[0m\n\u001b[1;32m----> 1\u001b[1;33m \u001b[0mrna\u001b[0m\u001b[1;33m.\u001b[0m\u001b[0mtranslate\u001b[0m\u001b[1;33m(\u001b[0m\u001b[1;33m)\u001b[0m\u001b[1;33m\u001b[0m\u001b[1;33m\u001b[0m\u001b[0m\n\u001b[0m",
      "\u001b[1;32m~\\AppData\\Local\\Temp/ipykernel_11432/540492674.py\u001b[0m in \u001b[0;36mtranslate\u001b[1;34m(self)\u001b[0m\n\u001b[0;32m     94\u001b[0m         \u001b[1;31m# retuns protein sequence of the class AminoAcidSequence based on RNA\u001b[0m\u001b[1;33m\u001b[0m\u001b[1;33m\u001b[0m\u001b[1;33m\u001b[0m\u001b[0m\n\u001b[0;32m     95\u001b[0m         \u001b[1;32mif\u001b[0m \u001b[0mself\u001b[0m\u001b[1;33m.\u001b[0m\u001b[0mseq\u001b[0m\u001b[1;33m.\u001b[0m\u001b[0mfind\u001b[0m\u001b[1;33m(\u001b[0m\u001b[1;34m\"AUG\"\u001b[0m\u001b[1;33m)\u001b[0m \u001b[1;33m==\u001b[0m \u001b[1;33m-\u001b[0m\u001b[1;36m1\u001b[0m\u001b[1;33m:\u001b[0m\u001b[1;33m\u001b[0m\u001b[1;33m\u001b[0m\u001b[0m\n\u001b[1;32m---> 96\u001b[1;33m             \u001b[1;32mraise\u001b[0m \u001b[0mKeyError\u001b[0m\u001b[1;33m(\u001b[0m\u001b[1;34m\"No start codons in your sequence\"\u001b[0m\u001b[1;33m)\u001b[0m\u001b[1;33m\u001b[0m\u001b[1;33m\u001b[0m\u001b[0m\n\u001b[0m\u001b[0;32m     97\u001b[0m         \u001b[1;32melse\u001b[0m\u001b[1;33m:\u001b[0m\u001b[1;33m\u001b[0m\u001b[1;33m\u001b[0m\u001b[0m\n\u001b[0;32m     98\u001b[0m             \u001b[0morf_start_pos\u001b[0m \u001b[1;33m=\u001b[0m \u001b[0mself\u001b[0m\u001b[1;33m.\u001b[0m\u001b[0mseq\u001b[0m\u001b[1;33m.\u001b[0m\u001b[0mfind\u001b[0m\u001b[1;33m(\u001b[0m\u001b[1;34m'AUG'\u001b[0m\u001b[1;33m)\u001b[0m\u001b[1;33m\u001b[0m\u001b[1;33m\u001b[0m\u001b[0m\n",
      "\u001b[1;31mKeyError\u001b[0m: 'No start codons in your sequence'"
     ]
    }
   ],
   "source": [
    "rna.translate()"
   ]
  },
  {
   "cell_type": "code",
   "execution_count": 111,
   "id": "1fd83888",
   "metadata": {},
   "outputs": [
    {
     "name": "stdout",
     "output_type": "stream",
     "text": [
      "Sequence: \n"
     ]
    },
    {
     "data": {
      "text/plain": [
       "MPPPR"
      ]
     },
     "execution_count": 111,
     "metadata": {},
     "output_type": "execute_result"
    }
   ],
   "source": [
    "rna2 = RNASequence('AUGCCCCCCCCCCGGUAG')\n",
    "rna2.translate()"
   ]
  },
  {
   "cell_type": "code",
   "execution_count": 113,
   "id": "e479949b",
   "metadata": {},
   "outputs": [],
   "source": [
    "pr = rna2.translate()"
   ]
  },
  {
   "cell_type": "code",
   "execution_count": 115,
   "id": "87e40a86",
   "metadata": {},
   "outputs": [
    {
     "data": {
      "text/plain": [
       "578.29988"
      ]
     },
     "execution_count": 115,
     "metadata": {},
     "output_type": "execute_result"
    }
   ],
   "source": [
    "pr.calc_mass()"
   ]
  },
  {
   "cell_type": "code",
   "execution_count": 116,
   "id": "4cf0b485",
   "metadata": {},
   "outputs": [
    {
     "data": {
      "text/plain": [
       "9.500077247619632"
      ]
     },
     "execution_count": 116,
     "metadata": {},
     "output_type": "execute_result"
    }
   ],
   "source": [
    "pr.calc_isoel_point()"
   ]
  }
 ],
 "metadata": {
  "kernelspec": {
   "display_name": "Python 3 (ipykernel)",
   "language": "python",
   "name": "python3"
  },
  "language_info": {
   "codemirror_mode": {
    "name": "ipython",
    "version": 3
   },
   "file_extension": ".py",
   "mimetype": "text/x-python",
   "name": "python",
   "nbconvert_exporter": "python",
   "pygments_lexer": "ipython3",
   "version": "3.9.0"
  }
 },
 "nbformat": 4,
 "nbformat_minor": 5
}
